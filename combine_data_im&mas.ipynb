{
  "nbformat": 4,
  "nbformat_minor": 0,
  "metadata": {
    "colab": {
      "provenance": []
    },
    "kernelspec": {
      "name": "python3",
      "display_name": "Python 3"
    },
    "language_info": {
      "name": "python"
    }
  },
  "cells": [
    {
      "cell_type": "code",
      "execution_count": null,
      "metadata": {
        "colab": {
          "base_uri": "https://localhost:8080/"
        },
        "id": "0ekbdZF39jNQ",
        "outputId": "71b7d0b7-61c4-41f6-c1db-0505b19c9bd1"
      },
      "outputs": [
        {
          "output_type": "stream",
          "name": "stdout",
          "text": [
            "Mounted at /content/drive\n"
          ]
        }
      ],
      "source": [
        "from google.colab import drive\n",
        "drive.mount('/content/drive')"
      ]
    },
    {
      "cell_type": "code",
      "source": [
        "%cd /content/drive/MyDrive/mini_project/project_segmentation/final_datas\n",
        "#!ls -l"
      ],
      "metadata": {
        "colab": {
          "base_uri": "https://localhost:8080/"
        },
        "id": "_wRvTfgm9mqJ",
        "outputId": "9fc60162-ba65-44b1-b1e4-90628f9f157e"
      },
      "execution_count": null,
      "outputs": [
        {
          "output_type": "stream",
          "name": "stdout",
          "text": [
            "/content/drive/MyDrive/mini_project/project_segmentation/final_datas\n"
          ]
        }
      ]
    },
    {
      "cell_type": "code",
      "source": [
        "#!unzip stage1_train.zip -d extract_train_zip"
      ],
      "metadata": {
        "id": "9hpOTlJ49wVH"
      },
      "execution_count": null,
      "outputs": []
    },
    {
      "cell_type": "code",
      "source": [
        "import cv2\n",
        "import os\n",
        "\n",
        "if not os.path.exists(\"/content/drive/MyDrive/mini_project/project_segmentation/final_datas/finalMasks\"):\n",
        "      os.makedirs(\"/content/drive/MyDrive/mini_project/project_segmentation/final_datas/finalMasks\")"
      ],
      "metadata": {
        "id": "tB3e74V79zzI"
      },
      "execution_count": null,
      "outputs": []
    },
    {
      "cell_type": "code",
      "source": [
        "%rmdir /content/drive/MyDrive/mini_project/project_segmentation/final_datas/finalImages"
      ],
      "metadata": {
        "colab": {
          "base_uri": "https://localhost:8080/"
        },
        "id": "j-xdx0ZgJjL7",
        "outputId": "64f47a3f-7038-491d-8aca-67f2d0b63df1"
      },
      "execution_count": null,
      "outputs": [
        {
          "output_type": "stream",
          "name": "stdout",
          "text": [
            "rmdir: failed to remove '/content/drive/MyDrive/mini_project/project_segmentation/final_datas/finalImages': Directory not empty\n"
          ]
        }
      ]
    },
    {
      "cell_type": "code",
      "source": [
        "\n",
        "\n",
        "# Define the path to the directory containing all the subfolders\n",
        "dir_path = \"/content/drive/MyDrive/mini_project/project_segmentation/final_datas/extract_train_zip\"\n",
        "i=1\n",
        "# Loop through each subfolder\n",
        "for subfolder in os.listdir(dir_path):\n",
        "    # Define the path to the subfolder\n",
        "    subfolder_path = os.path.join(dir_path, subfolder)\n",
        "    # Define the path to the image in the subfolder\n",
        "    img_path = os.path.join(subfolder_path, \"images/image.png\")\n",
        "\n",
        "    # Create an empty mask to hold all the masks\n",
        "    mask = None\n",
        "\n",
        "    # Loop through each mask in the subfolder\n",
        "    for masks in os.listdir(os.path.join(subfolder_path, \"masks\")):\n",
        "        mask_folder_path = os.path.join(subfolder_path, \"masks\", masks)\n",
        "\n",
        "        # Load the mask and add it to the overall mask\n",
        "        if mask is None:\n",
        "            mask = cv2.imread(mask_folder_path, cv2.IMREAD_GRAYSCALE)\n",
        "        else:\n",
        "            mask += cv2.imread(mask_folder_path, cv2.IMREAD_GRAYSCALE)\n",
        "\n",
        "    # Save the complete mask inside the subfolder\n",
        "    pathToSave = \"/content/drive/MyDrive/mini_project/project_segmentation/final_datas/finalMasks\"\n",
        "    complete_mask_path = os.path.join(pathToSave, \"mask\"+str(i)+\".png\")\n",
        "    cv2.imwrite(complete_mask_path, mask)\n",
        "    i+=1\n"
      ],
      "metadata": {
        "id": "v7QDQ1q790Au"
      },
      "execution_count": null,
      "outputs": []
    },
    {
      "cell_type": "code",
      "source": [
        "\n",
        "if not os.path.exists(\"/content/drive/MyDrive/mini_project/project_segmentation/final_datas/finalImages\"):\n",
        "      os.makedirs(\"/content/drive/MyDrive/mini_project/project_segmentation/final_datas/finalImages\")"
      ],
      "metadata": {
        "id": "F3GcMmHpEV_i"
      },
      "execution_count": null,
      "outputs": []
    },
    {
      "cell_type": "code",
      "source": [
        "\n",
        "# Define the path to the directory containing all the subfolders\n",
        "dir_path = \"/content/drive/MyDrive/mini_project/project_segmentation/final_datas/extract_train_zip\"\n",
        "i=1\n",
        "# Loop through each subfolder\n",
        "for subfolder in os.listdir(dir_path):\n",
        "    # Define the path to the subfolder\n",
        "    subfolder_path = os.path.join(dir_path, subfolder)\n",
        "\n",
        "    # Define the path to the image in the subfolder\n",
        "    for img in os.listdir(os.path.join(subfolder_path, \"images\")):\n",
        "        img_folder_path = os.path.join(subfolder_path, \"images\", img)\n",
        "        image = cv2.imread(img_folder_path, cv2.IMREAD_GRAYSCALE)\n",
        "\n",
        "    # Save the complete mask inside the subfolder\n",
        "    pathToSave = \"/content/drive/MyDrive/mini_project/project_segmentation/final_datas/finalImages\"\n",
        "    complete_mask_path = os.path.join(pathToSave, \"image\"+str(i)+\".png\")\n",
        "    cv2.imwrite(complete_mask_path, image)\n",
        "    i+=1\n"
      ],
      "metadata": {
        "id": "Uiw5DudKEL8E"
      },
      "execution_count": null,
      "outputs": []
    }
  ]
}